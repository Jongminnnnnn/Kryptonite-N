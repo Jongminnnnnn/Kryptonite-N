{
 "cells": [
  {
   "cell_type": "code",
   "execution_count": 1,
   "id": "c84c3373",
   "metadata": {},
   "outputs": [
    {
     "name": "stderr",
     "output_type": "stream",
     "text": [
      "/opt/anaconda3/envs/kryptonite_env/lib/python3.9/site-packages/tqdm/auto.py:21: TqdmWarning: IProgress not found. Please update jupyter and ipywidgets. See https://ipywidgets.readthedocs.io/en/stable/user_install.html\n",
      "  from .autonotebook import tqdm as notebook_tqdm\n",
      "/opt/anaconda3/envs/kryptonite_env/lib/python3.9/site-packages/huggingface_hub/file_download.py:797: FutureWarning: `resume_download` is deprecated and will be removed in version 1.0.0. Downloads always resume when possible. If you want to force a new download, use `force_download=True`.\n",
      "  warnings.warn(\n",
      "/opt/anaconda3/envs/kryptonite_env/lib/python3.9/site-packages/transformers/modeling_utils.py:415: FutureWarning: You are using `torch.load` with `weights_only=False` (the current default value), which uses the default pickle module implicitly. It is possible to construct malicious pickle data which will execute arbitrary code during unpickling (See https://github.com/pytorch/pytorch/blob/main/SECURITY.md#untrusted-models for more details). In a future release, the default value for `weights_only` will be flipped to `True`. This limits the functions that could be executed during unpickling. Arbitrary objects will no longer be allowed to be loaded via this mode unless they are explicitly allowlisted by the user via `torch.serialization.add_safe_globals`. We recommend you start setting `weights_only=True` for any use case where you don't have full control of the loaded file. Please open an issue on GitHub for any issues related to this experimental feature.\n",
      "  return torch.load(checkpoint_file, map_location=\"cpu\")\n",
      "100%|██████████| 300/300 [00:23<00:00, 12.69it/s]\n",
      "100%|██████████| 300/300 [00:23<00:00, 12.90it/s]\n",
      "100%|██████████| 300/300 [00:22<00:00, 13.41it/s]\n",
      "100%|██████████| 300/300 [00:22<00:00, 13.39it/s]\n",
      "100%|██████████| 300/300 [00:23<00:00, 12.93it/s]\n",
      "100%|██████████| 300/300 [00:22<00:00, 13.33it/s]\n",
      "100%|██████████| 300/300 [00:22<00:00, 13.57it/s]\n",
      "100%|██████████| 300/300 [00:21<00:00, 13.72it/s]\n",
      "100%|██████████| 300/300 [00:22<00:00, 13.25it/s]\n",
      "100%|██████████| 300/300 [00:22<00:00, 13.06it/s]\n",
      "100%|██████████| 300/300 [00:24<00:00, 12.30it/s]\n",
      "100%|██████████| 300/300 [00:22<00:00, 13.20it/s]\n",
      "100%|██████████| 300/300 [00:25<00:00, 11.55it/s]\n",
      "100%|██████████| 300/300 [00:23<00:00, 12.83it/s]\n",
      "100%|██████████| 300/300 [00:22<00:00, 13.21it/s]\n",
      "100%|██████████| 300/300 [00:23<00:00, 12.76it/s]\n",
      "100%|██████████| 300/300 [00:22<00:00, 13.13it/s]\n",
      "100%|██████████| 300/300 [00:23<00:00, 12.57it/s]\n",
      "100%|██████████| 300/300 [00:24<00:00, 12.22it/s]\n",
      "100%|██████████| 300/300 [00:23<00:00, 12.94it/s]\n",
      "100%|██████████| 300/300 [00:23<00:00, 12.71it/s]\n",
      "100%|██████████| 300/300 [00:23<00:00, 12.71it/s]\n",
      "100%|██████████| 300/300 [00:23<00:00, 13.02it/s]\n",
      "100%|██████████| 300/300 [00:22<00:00, 13.51it/s]\n",
      "100%|██████████| 300/300 [00:24<00:00, 12.46it/s]\n",
      "100%|██████████| 300/300 [00:24<00:00, 12.20it/s]\n",
      "100%|██████████| 300/300 [00:22<00:00, 13.18it/s]\n",
      "100%|██████████| 300/300 [00:24<00:00, 12.01it/s]\n",
      "100%|██████████| 300/300 [00:24<00:00, 12.18it/s]\n",
      "100%|██████████| 300/300 [00:23<00:00, 12.64it/s]\n",
      "100%|██████████| 300/300 [00:26<00:00, 11.46it/s]\n",
      "100%|██████████| 300/300 [00:27<00:00, 11.10it/s]\n",
      "100%|██████████| 300/300 [00:24<00:00, 12.40it/s]\n",
      "100%|██████████| 300/300 [00:24<00:00, 12.39it/s]\n",
      "100%|██████████| 300/300 [00:27<00:00, 10.71it/s]\n",
      "100%|██████████| 300/300 [00:27<00:00, 10.89it/s]\n",
      "100%|██████████| 300/300 [00:27<00:00, 11.00it/s]\n",
      "100%|██████████| 300/300 [00:28<00:00, 10.70it/s]\n",
      "100%|██████████| 300/300 [00:27<00:00, 10.82it/s]\n",
      "100%|██████████| 300/300 [00:26<00:00, 11.25it/s]\n",
      "100%|██████████| 300/300 [00:26<00:00, 11.50it/s]\n",
      "100%|██████████| 300/300 [00:23<00:00, 12.91it/s]\n"
     ]
    },
    {
     "name": "stdout",
     "output_type": "stream",
     "text": [
      "Finished with one\n"
     ]
    },
    {
     "name": "stderr",
     "output_type": "stream",
     "text": [
      "100%|██████████| 300/300 [00:23<00:00, 12.97it/s]\n",
      "100%|██████████| 300/300 [00:24<00:00, 12.47it/s]\n",
      "100%|██████████| 300/300 [00:24<00:00, 12.38it/s]\n",
      "100%|██████████| 100/100 [00:07<00:00, 14.15it/s]\n"
     ]
    },
    {
     "name": "stdout",
     "output_type": "stream",
     "text": [
      "Finished with one\n"
     ]
    },
    {
     "name": "stderr",
     "output_type": "stream",
     "text": [
      "100%|██████████| 300/300 [00:24<00:00, 12.25it/s]\n",
      "100%|██████████| 300/300 [00:22<00:00, 13.04it/s]\n",
      "100%|██████████| 300/300 [00:22<00:00, 13.12it/s]\n",
      "100%|██████████| 100/100 [00:05<00:00, 17.93it/s]\n"
     ]
    },
    {
     "name": "stdout",
     "output_type": "stream",
     "text": [
      "Finished with one\n"
     ]
    },
    {
     "name": "stderr",
     "output_type": "stream",
     "text": [
      "/var/folders/cc/95y4d8f130j8q9tr4sn6xvmr0000gn/T/ipykernel_50538/3141226087.py:64: FutureWarning: You are using `torch.load` with `weights_only=False` (the current default value), which uses the default pickle module implicitly. It is possible to construct malicious pickle data which will execute arbitrary code during unpickling (See https://github.com/pytorch/pytorch/blob/main/SECURITY.md#untrusted-models for more details). In a future release, the default value for `weights_only` will be flipped to `True`. This limits the functions that could be executed during unpickling. Arbitrary objects will no longer be allowed to be loaded via this mode unless they are explicitly allowlisted by the user via `torch.serialization.add_safe_globals`. We recommend you start setting `weights_only=True` for any use case where you don't have full control of the loaded file. Please open an issue on GitHub for any issues related to this experimental feature.\n",
      "  encodings_tensor = torch.load(file)\n"
     ]
    }
   ],
   "source": [
    "# We will first load in the standard Kryptonite-n dataset for a \n",
    "# given n \n",
    "import tempfile\n",
    "import os\n",
    "import numpy as np\n",
    "import torch\n",
    "from tqdm import tqdm\n",
    "from torch import nn, optim\n",
    "from sklearn.model_selection import train_test_split\n",
    "from transformers import GPT2Tokenizer, GPT2Model\n",
    "\n",
    "selected_n_value = 9\n",
    "\n",
    "X = np.load('Datasets/kryptonite-%s-X.npy'%(selected_n_value))\n",
    "y = np.load('Datasets/kryptonite-%s-y.npy'%(selected_n_value))\n",
    "\n",
    "# Assuming X and y are your dataset feature and label vectors.\n",
    "# Cast labels to integers if necessary\n",
    "y = y.astype(int)\n",
    "\n",
    "# 1. Splitting the data\n",
    "X_train, X_temp, y_train, y_temp = train_test_split(X, y, test_size=0.3, random_state=42)\n",
    "X_val, X_test, y_val, y_test = train_test_split(X_temp, y_temp, test_size=0.5, random_state=42)\n",
    "\n",
    "# 2. Load the GPT-2 tokenizer and model\n",
    "tokenizer = GPT2Tokenizer.from_pretrained('gpt2')\n",
    "gpt2_model = GPT2Model.from_pretrained('gpt2')\n",
    "\n",
    "# Function to encode input vectors using GPT-2 and write results to temporary files\n",
    "def encode_and_save(X, batch_size=300, prefix='encoded'):\n",
    "    temp_files = []\n",
    "    \n",
    "    for i in range(0, len(X), batch_size):\n",
    "        batch = X[i:i + batch_size]\n",
    "        encodings = []\n",
    "        \n",
    "        # Process each vector in the batch\n",
    "        for vector in tqdm(batch):\n",
    "            input_sentence = \"Classify the following vector from a binary classification task: %s\" % vector\n",
    "            inputs = tokenizer(input_sentence, return_tensors='pt')\n",
    "            outputs = gpt2_model(**inputs)\n",
    "            encoding = outputs.last_hidden_state.mean(dim=1)\n",
    "            encodings.append(encoding)\n",
    "        \n",
    "        # Stack the encodings for the current batch\n",
    "        encodings_tensor = torch.stack(encodings)\n",
    "        \n",
    "        # Write the batch to a temporary file\n",
    "        with tempfile.NamedTemporaryFile(delete=False, suffix='.pt', prefix=prefix) as tmp_file:\n",
    "            temp_files.append(tmp_file.name)\n",
    "            torch.save(encodings_tensor, tmp_file.name)\n",
    "        \n",
    "        # Free memory\n",
    "        del encodings_tensor\n",
    "        torch.cuda.empty_cache()  # If using a GPU\n",
    "    print(\"Finished with one\")\n",
    "    return temp_files\n",
    "\n",
    "# Merge multiple temp files into a single tensor\n",
    "def merge_temp_files(temp_files):\n",
    "    all_encodings = []\n",
    "    \n",
    "    for file in temp_files:\n",
    "        encodings_tensor = torch.load(file)\n",
    "        all_encodings.append(encodings_tensor)\n",
    "        os.remove(file)  # Clean up temp file after loading\n",
    "    \n",
    "    # Concatenate all the loaded tensors into one\n",
    "    return torch.cat(all_encodings)\n",
    "\n",
    "# Encode the train, validation, and test sets in batches and store them in temp files\n",
    "train_temp_files = encode_and_save(X_train, prefix='train_encoded')\n",
    "val_temp_files = encode_and_save(X_val[0:1000], prefix='val_encoded')\n",
    "test_temp_files = encode_and_save(X_test[0:1000], prefix='test_encoded')\n",
    "\n",
    "# Merge the temporary files into one dataset\n",
    "X_train_encoded = merge_temp_files(train_temp_files)\n",
    "X_val_encoded = merge_temp_files(val_temp_files)\n",
    "X_test_encoded = merge_temp_files(test_temp_files)\n",
    "\n"
   ]
  },
  {
   "cell_type": "code",
   "execution_count": 2,
   "id": "f051ca61",
   "metadata": {},
   "outputs": [],
   "source": [
    "np.save('Datasets/kryptonite-%s-X-train-GPT2.npy'%(selected_n_value), X_train_encoded.detach().numpy())\n",
    "np.save('Datasets/kryptonite-%s-X-valid-GPT2.npy'%(selected_n_value), X_val_encoded.detach().numpy())\n",
    "np.save('Datasets/kryptonite-%s-X-test-GPT2.npy'%(selected_n_value), X_test_encoded.detach().numpy())\n",
    "\n",
    "np.save('Datasets/kryptonite-%s-y-train-GPT2.npy'%(selected_n_value), y_train)\n",
    "np.save('Datasets/kryptonite-%s-y-valid-GPT2.npy'%(selected_n_value), y_val)\n",
    "np.save('Datasets/kryptonite-%s-y-test-GPT2.npy'%(selected_n_value), y_test)\n"
   ]
  }
 ],
 "metadata": {
  "kernelspec": {
   "display_name": "kryptonite_env",
   "language": "python",
   "name": "python3"
  },
  "language_info": {
   "codemirror_mode": {
    "name": "ipython",
    "version": 3
   },
   "file_extension": ".py",
   "mimetype": "text/x-python",
   "name": "python",
   "nbconvert_exporter": "python",
   "pygments_lexer": "ipython3",
   "version": "3.9.20"
  }
 },
 "nbformat": 4,
 "nbformat_minor": 5
}
